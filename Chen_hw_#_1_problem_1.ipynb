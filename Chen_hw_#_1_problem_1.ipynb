{
 "cells": [
  {
   "cell_type": "code",
   "execution_count": 1,
   "metadata": {},
   "outputs": [
    {
     "name": "stdout",
     "output_type": "stream",
     "text": [
      "Plant Saturn has mass 5.6834e+26 kg , radius 58232 km and escape velocity 36082.87826082694 (m/s)\n",
      "Plant Jupiter has mass 1.8982e+27 kg , radius 69911 km and escape velocity 60183.32004907762 (m/s)\n",
      "Plant Mercury has mass 3.3011e+23 kg , radius 2439.7 km and escape velocity 4248.533450485599 (m/s)\n",
      "Plant Neptune has mass 8.681e+25 kg , radius 24622 km and escape velocity 21687.0823921846 (m/s)\n",
      "Plant Mars has mass 6.4171e+23 kg , radius 3389.5 km and escape velocity 5025.502567745409 (m/s)\n",
      "Plant Uranus has mass 8.681e+25 kg , radius 25362 km and escape velocity 21368.352718687966 (m/s)\n",
      "Plant Venus has mass 4.8675e+24 kg , radius 6051.8 km and escape velocity 10358.303013681472 (m/s)\n",
      "Plant Earth has mass 5.97237e+24 kg , radius 6371 km and escape velocity 11182.72036031661 (m/s)\n"
     ]
    }
   ],
   "source": [
    "import numpy as np\n",
    "planetdict ={\"Mercury\":{\"mass\":3.3011e23,\"radius\":2439.7},\"Venus\":{\"mass\":4.8675e24,\"radius\":6051.8},\\\n",
    "             \"Earth\":{\"mass\":5.97237e24,\"radius\":6371},\"Mars\":{\"mass\":6.4171e23,\"radius\":3389.5},\\\n",
    "             \"Jupiter\":{\"mass\":1.8982e27,\"radius\":69911},\"Saturn\":{\"mass\":5.6834e26,\"radius\":58232},\\\n",
    "             \"Uranus\":{\"mass\":8.681e25,\"radius\":25362},\"Neptune\":{\"mass\":8.681e25,\"radius\":24622}} #Reference from the Wikipedia\n",
    "\n",
    "\n",
    "def escapeV(m,r):\n",
    "    G=6.67e-11\n",
    "    v=np.sqrt((2.0*G*m)/(r*1000))\n",
    "    return v\n",
    "\n",
    "for plant1 in planetdict:\n",
    "    print(\"Plant\",plant1,\"has mass\",planetdict[plant1][\"mass\"],\"kg\",\", radius\",planetdict[plant1][\"radius\"],\\\n",
    "          \"km and escape velocity\",escapeV(planetdict[plant1][\"mass\"],planetdict[plant1][\"radius\"]),\"(m/s)\")\n",
    "    \n",
    "    \n"
   ]
  },
  {
   "cell_type": "code",
   "execution_count": null,
   "metadata": {},
   "outputs": [],
   "source": []
  },
  {
   "cell_type": "code",
   "execution_count": null,
   "metadata": {},
   "outputs": [],
   "source": []
  }
 ],
 "metadata": {
  "kernelspec": {
   "display_name": "Python 3",
   "language": "python",
   "name": "python3"
  },
  "language_info": {
   "codemirror_mode": {
    "name": "ipython",
    "version": 3
   },
   "file_extension": ".py",
   "mimetype": "text/x-python",
   "name": "python",
   "nbconvert_exporter": "python",
   "pygments_lexer": "ipython3",
   "version": "3.8.0"
  }
 },
 "nbformat": 4,
 "nbformat_minor": 2
}
