{
 "cells": [
  {
   "cell_type": "code",
   "execution_count": 15,
   "metadata": {},
   "outputs": [
    {
     "name": "stdout",
     "output_type": "stream",
     "text": [
      "The number of lines where the word ’fortune’ is  7\n",
      "The number of lines where the word ’Macbeth’ is present is  44\n",
      "The number of occurrences where the word ’Macbeth’ is present is  48\n",
      "The number of lines where the word ’Macbeth’ and 'Banquo' at same time is present is  3\n"
     ]
    }
   ],
   "source": [
    "val = open('Macbeth.txt','r')\n",
    "n=0\n",
    "for line in val:\n",
    "    for word in line.split():\n",
    "        if word[:7] == \"fortune\":\n",
    "            n=n+1\n",
    "            break\n",
    "print(\"The number of lines where the word ’fortune’ is \",n)\n",
    "m=0\n",
    "val1 = open('Macbeth.txt','r')\n",
    "for line in val1:\n",
    "    for word in line.split():\n",
    "        if word[:7] == \"Macbeth\":\n",
    "            m=m+1\n",
    "            break\n",
    "print(\"The number of lines where the word ’Macbeth’ is present is \",m)\n",
    "h=0\n",
    "val1 = open('Macbeth.txt','r')\n",
    "for line in val1:\n",
    "    for word in line.split():\n",
    "        if word[:7] == \"Macbeth\":\n",
    "            h=h+1\n",
    "print(\"The number of occurrences where the word ’Macbeth’ is present is \",h)\n",
    "#k=0\n",
    "l=0\n",
    "val1 = open('Macbeth.txt','r')\n",
    "for line in val1:\n",
    "    for word in line.split():\n",
    "        if word[:7] == \"Macbeth\":# and l==0:\n",
    "            for word2 in line.split():\n",
    "                #print(word2)\n",
    "                if word2[:6] == \"Banquo\":\n",
    "                    l=l+1\n",
    "                    break\n",
    "            break\n",
    "print(\"The number of lines where the word ’Macbeth’ and 'Banquo' at same time is present is \",l)"
   ]
  },
  {
   "cell_type": "code",
   "execution_count": null,
   "metadata": {},
   "outputs": [],
   "source": []
  }
 ],
 "metadata": {
  "kernelspec": {
   "display_name": "Python 3",
   "language": "python",
   "name": "python3"
  },
  "language_info": {
   "codemirror_mode": {
    "name": "ipython",
    "version": 3
   },
   "file_extension": ".py",
   "mimetype": "text/x-python",
   "name": "python",
   "nbconvert_exporter": "python",
   "pygments_lexer": "ipython3",
   "version": "3.5.4"
  }
 },
 "nbformat": 4,
 "nbformat_minor": 2
}
